{
 "cells": [
  {
   "cell_type": "markdown",
   "metadata": {},
   "source": [
    "#### Importing the other packages"
   ]
  },
  {
   "cell_type": "code",
   "execution_count": null,
   "metadata": {
    "scrolled": true
   },
   "outputs": [],
   "source": [
    "%run Packages/libraries.ipynb\n",
    "%run Packages/data_loader.ipynb\n",
    "%run Packages/Network.ipynb\n",
    "%run Packages/training.ipynb\n",
    "%run Packages/generate.ipynb"
   ]
  },
  {
   "cell_type": "code",
   "execution_count": null,
   "metadata": {},
   "outputs": [],
   "source": [
    "def write_loss_on_file(loss,filename):\n",
    "    f = open(filename, 'w+')\n",
    "    for i, loss_ in enumerate(loss):\n",
    "        f.write(str(i+1) + '\\t' + str(loss_) + '\\n')\n",
    "    f.close()"
   ]
  },
  {
   "cell_type": "markdown",
   "metadata": {},
   "source": [
    "Parameters"
   ]
  },
  {
   "cell_type": "code",
   "execution_count": null,
   "metadata": {},
   "outputs": [],
   "source": [
    "n_chars = 180\n",
    "n_epochs = 600"
   ]
  },
  {
   "cell_type": "markdown",
   "metadata": {},
   "source": [
    "#### Creation of the Dataset"
   ]
  },
  {
   "cell_type": "code",
   "execution_count": null,
   "metadata": {},
   "outputs": [],
   "source": [
    "LWds = LewisCarrollDataset('Alice_total.txt', n_char=n_chars)\n",
    "\n",
    "alphabet_len = len(LWds.alphabet)\n",
    "trans = transforms.Compose([OneHotEncoder(alphabet_len),\n",
    "                            ToTensor()\n",
    "                           ])\n",
    "trans_conv = transforms.Compose([OneHotEncoder(alphabet_len),\n",
    "                                 training_data_conv(),\n",
    "                                 ToTensor()\n",
    "                                ])\n",
    "LWds.transform = trans_conv"
   ]
  },
  {
   "cell_type": "markdown",
   "metadata": {},
   "source": [
    "#### Initialization of the Network"
   ]
  },
  {
   "cell_type": "code",
   "execution_count": null,
   "metadata": {},
   "outputs": [],
   "source": [
    "#%% Initialize network    \n",
    "input_size = len(LWds.alphabet)\n",
    "hidden_units = 280\n",
    "layers_num = 2\n",
    "linear = 140\n",
    "dropout_prob = 0.25\n",
    "net = lstm_double(input_size, hidden_units, layers_num, linear, dropout_prob)\n",
    "\n",
    "\n",
    "optimizer = torch.optim.RMSprop(net.parameters(), lr=0.004)\n",
    "loss_fn = nn.CrossEntropyLoss()"
   ]
  },
  {
   "cell_type": "code",
   "execution_count": null,
   "metadata": {},
   "outputs": [],
   "source": [
    "dataloader = DataLoader(LWds, batch_size=256, shuffle=True)"
   ]
  },
  {
   "cell_type": "code",
   "execution_count": null,
   "metadata": {},
   "outputs": [],
   "source": [
    "device = torch.device(\"cuda\")\n",
    "net.to(device)"
   ]
  },
  {
   "cell_type": "markdown",
   "metadata": {},
   "source": [
    "#### Training"
   ]
  },
  {
   "cell_type": "code",
   "execution_count": null,
   "metadata": {
    "scrolled": false
   },
   "outputs": [],
   "source": [
    "loss_log = []\n",
    "best_loss = 10\n",
    "load_params = False\n",
    "load_best_params = True\n",
    "\n",
    "times_per_epoch = len(dataloader)\n",
    "time_start = time.time()\n",
    "seed = 'alice fell in the hole and desperately cried out for help. luckily, a white rabbit was passing by ' \n",
    "seed += 'there and heard her call. ‘what are you doing down there little girl?’ asked the white rabbit. '\n",
    "seed += '‘i fell down, can you help me?’ cried out alice.'\n",
    "\n",
    "for epoch in range(n_epochs):\n",
    "    if load_params or (load_best_params and epoch>0):\n",
    "        print('Loaded!')\n",
    "        net.load_state_dict(torch.load('net/ckpt/best.ckpt'))\n",
    "        net.to(device)\n",
    "        net.train()\n",
    "    print('##################################')\n",
    "    print('## EPOCH %d' % (epoch + 1))\n",
    "    print('##################################')\n",
    "    # Iterate batches\n",
    "    counter = 0\n",
    "    loss_placeholder = []\n",
    "    for batch_sample in dataloader:\n",
    "        counter += 1\n",
    "        # Extract batch\n",
    "        x_rnn = batch_sample['x_rnn'].to(device)\n",
    "        y = batch_sample['y_conv'].to(device)\n",
    "        speech = batch_sample['speech']\n",
    "        # Update network\n",
    "        batch_loss = train_batch(net, x_rnn, y, speech, loss_fn, optimizer)\n",
    "        loss_placeholder.append(batch_loss)\n",
    "        if counter%25==0:\n",
    "            print('Epoch ', epoch+1)\n",
    "            print('[' + '#'*int(100*counter/times_per_epoch) + ' '*(100-int(100*counter/times_per_epoch)) + ']')\n",
    "            print('\\t Training loss (single batch):', batch_loss)\n",
    "            eta = (time.time()-time_start)*(times_per_epoch*n_epochs/(counter+times_per_epoch*epoch)-1)/60\n",
    "            print('\\t Approximately %4.2f minutes left' % (eta))\n",
    "            print('\\t Time elapsed: %4.2f minutes' % ((time.time()-time_start)/60))\n",
    "            clear_output(wait = True)\n",
    "    loss_log.append(np.mean(loss_placeholder))\n",
    "    write_loss_on_file(loss_log, 'net/loss.txt')\n",
    "    if np.mean(loss_placeholder)<best_loss:\n",
    "        best_loss = np.mean(loss_placeholder)\n",
    "        net.save()\n",
    "        print('Saved!')\n",
    "    if epoch>1:\n",
    "        plt.plot(np.arange(1,epoch+2), loss_log)\n",
    "        plt.show()\n",
    "    #generate_text_multi(net, seed, LWds, file=str(epoch)+'.txt', temperature=0.3, max_char=1000)\n",
    "    "
   ]
  }
 ],
 "metadata": {
  "kernelspec": {
   "display_name": "Python 3",
   "language": "python",
   "name": "python3"
  },
  "language_info": {
   "codemirror_mode": {
    "name": "ipython",
    "version": 3
   },
   "file_extension": ".py",
   "mimetype": "text/x-python",
   "name": "python",
   "nbconvert_exporter": "python",
   "pygments_lexer": "ipython3",
   "version": "3.7.4"
  }
 },
 "nbformat": 4,
 "nbformat_minor": 2
}
