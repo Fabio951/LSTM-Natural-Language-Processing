{
 "cells": [
  {
   "cell_type": "code",
   "execution_count": null,
   "metadata": {},
   "outputs": [],
   "source": [
    "class lstm_double(nn.Module):\n",
    "    \n",
    "    def __init__(self, input_size, hidden_units, layers_num, lin, dropout_prob=0):\n",
    "        # Call the parent init function (required!)\n",
    "        super().__init__()\n",
    "        # Define recurrent layer\n",
    "        self.lstm = nn.LSTM(input_size=input_size, \n",
    "                            hidden_size=hidden_units,\n",
    "                            num_layers=layers_num,\n",
    "                            dropout=dropout_prob,\n",
    "                            batch_first=True)\n",
    "        \n",
    "        self.norm = nn.BatchNorm1d(hidden_units)\n",
    "        \n",
    "        self.narr = nn.Sequential(nn.Linear(hidden_units, lin),\n",
    "                                  nn.ReLU(),\n",
    "                                  nn.Dropout(dropout_prob/3),\n",
    "                                  nn.BatchNorm1d(lin),\n",
    "                                  nn.Linear(lin, input_size)\n",
    "                                 )\n",
    "        self.speech = nn.Sequential(nn.Linear(hidden_units, lin),\n",
    "                                    nn.ReLU(),\n",
    "                                    nn.Dropout(dropout_prob/3),\n",
    "                                    nn.BatchNorm1d(lin),\n",
    "                                    nn.Linear(lin, input_size)\n",
    "                                   )\n",
    "\n",
    "        \n",
    "    def forward(self, x, state=None, in_speech=None):\n",
    "        \n",
    "        x_rnn, state = self.lstm(x, state)\n",
    "        \n",
    "        x_rnn = x_rnn[:,-1,:]\n",
    "        x_flat = self.norm(x_rnn)\n",
    "        \n",
    "        out_speech = self.speech(x_flat)\n",
    "        out_narr = self.narr(x_flat)\n",
    "        \n",
    "        out_speech[in_speech==0] = 0\n",
    "        out_narr[in_speech==1] = 0\n",
    "        \n",
    "        out = out_speech + out_narr\n",
    "        \n",
    "        return out, state\n",
    "    \n",
    "    def save(self):\n",
    "        torch.save(self.state_dict(), 'double_drop_2/ckpt/best_4.ckpt')\n",
    "    "
   ]
  }
 ],
 "metadata": {
  "kernelspec": {
   "display_name": "Python 3",
   "language": "python",
   "name": "python3"
  },
  "language_info": {
   "codemirror_mode": {
    "name": "ipython",
    "version": 3
   },
   "file_extension": ".py",
   "mimetype": "text/x-python",
   "name": "python",
   "nbconvert_exporter": "python",
   "pygments_lexer": "ipython3",
   "version": "3.7.4"
  }
 },
 "nbformat": 4,
 "nbformat_minor": 2
}
